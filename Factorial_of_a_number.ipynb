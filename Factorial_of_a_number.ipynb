{
  "nbformat": 4,
  "nbformat_minor": 0,
  "metadata": {
    "colab": {
      "name": "Factorial_of_a_number.ipynb",
      "provenance": []
    },
    "kernelspec": {
      "name": "python3",
      "display_name": "Python 3"
    },
    "language_info": {
      "name": "python"
    }
  },
  "cells": [
    {
      "cell_type": "code",
      "execution_count": 3,
      "metadata": {
        "id": "BCikvWdypM7J",
        "colab": {
          "base_uri": "https://localhost:8080/"
        },
        "outputId": "474e4c9f-458a-4899-9348-eb1808755d0b"
      },
      "outputs": [
        {
          "output_type": "stream",
          "name": "stdout",
          "text": [
            "enter a number:8\n",
            "Factorial: 40320\n"
          ]
        }
      ],
      "source": [
        "def fact(n):\n",
        "  f=1\n",
        "  while(n>0):\n",
        "    f=f*n\n",
        "    n=n-1\n",
        "  return(f)\n",
        "\n",
        "a =  int(input(\"enter a number:\"))\n",
        "ans= fact(a)\n",
        "print(\"Factorial:\" ,ans)"
      ]
    }
  ]
}